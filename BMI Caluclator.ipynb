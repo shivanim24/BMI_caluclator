{
 "cells": [
  {
   "cell_type": "code",
   "execution_count": 12,
   "id": "4f863cf4",
   "metadata": {},
   "outputs": [
    {
     "name": "stdout",
     "output_type": "stream",
     "text": [
      "Enter Your Name:shivani\n",
      "Enter Your Weight in pounds:156\n",
      "Enter Your height in inchs:71.65\n",
      "21.362276593641354\n"
     ]
    }
   ],
   "source": [
    "name=input(\"Enter Your Name:\")\n",
    "weight=float(input(\"Enter Your Weight in pounds:\"))\n",
    "height=float(input(\"Enter Your height in inchs:\"))\n",
    "BMI=(weight * 703)/(height * height)\n",
    "print (BMI)"
   ]
  },
  {
   "cell_type": "code",
   "execution_count": 15,
   "id": "7093a5f2",
   "metadata": {},
   "outputs": [
    {
     "name": "stdout",
     "output_type": "stream",
     "text": [
      "shivani, you are normal weight\n"
     ]
    }
   ],
   "source": [
    "if BMI>0 :\n",
    "    if(BMI<18.5):\n",
    "        print(name + \", you are underweight\")\n",
    "    elif(BMI<=24.9):\n",
    "        print(name + \", you are normal weight\")\n",
    "    elif(BMI<=29.9):\n",
    "        print(name +\", you are over weight\")\n",
    "    elif(BMI<=34.9):\n",
    "        print(name +\", you are obese\")\n",
    "    elif(BMI<39.9):\n",
    "        print(name +\", you are severely obese\")\n",
    "    elif(BMI>=40):\n",
    "        print(name +\", you are over morbidly obese\")\n",
    "    else:\n",
    "        print(\"enter valid input\")\n",
    "    "
   ]
  },
  {
   "cell_type": "code",
   "execution_count": null,
   "id": "68f24057",
   "metadata": {},
   "outputs": [],
   "source": [
    "#BMI=(weight in pounds * 703)/height in inches* height in inches"
   ]
  },
  {
   "cell_type": "code",
   "execution_count": null,
   "id": "a4048a04",
   "metadata": {},
   "outputs": [],
   "source": []
  },
  {
   "cell_type": "code",
   "execution_count": null,
   "id": "89460211",
   "metadata": {},
   "outputs": [],
   "source": []
  },
  {
   "cell_type": "code",
   "execution_count": null,
   "id": "36915851",
   "metadata": {},
   "outputs": [],
   "source": []
  },
  {
   "cell_type": "code",
   "execution_count": null,
   "id": "fb738d55",
   "metadata": {},
   "outputs": [],
   "source": []
  }
 ],
 "metadata": {
  "kernelspec": {
   "display_name": "Python 3 (ipykernel)",
   "language": "python",
   "name": "python3"
  },
  "language_info": {
   "codemirror_mode": {
    "name": "ipython",
    "version": 3
   },
   "file_extension": ".py",
   "mimetype": "text/x-python",
   "name": "python",
   "nbconvert_exporter": "python",
   "pygments_lexer": "ipython3",
   "version": "3.11.5"
  }
 },
 "nbformat": 4,
 "nbformat_minor": 5
}
